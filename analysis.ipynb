{
 "cells": [
  {
   "cell_type": "code",
   "execution_count": 1,
   "metadata": {},
   "outputs": [],
   "source": [
    "import csv\n",
    "import matplotlib.pyplot as plt\n",
    "import datetime\n",
    "from collections import defaultdict\n",
    "import calendar"
   ]
  },
  {
   "cell_type": "markdown",
   "metadata": {},
   "source": [
    "# When importing from Google Docs\n",
    "\n",
    "Download as `.tsv` and, if needed, remove incomplete trips from the bottom of the tile.\n",
    "\n",
    "Remove the first header row."
   ]
  },
  {
   "cell_type": "markdown",
   "metadata": {},
   "source": [
    "# Let's define classes"
   ]
  },
  {
   "cell_type": "code",
   "execution_count": 2,
   "metadata": {},
   "outputs": [],
   "source": [
    "class Summit(object):\n",
    "    def __init__(self, row):\n",
    "        self.name = row['Summit']\n",
    "        date = datetime.datetime.strptime(row['Date'], '%m-%d-%Y').date()\n",
    "        self.date = date\n",
    "    \n",
    "    def __str__(self):\n",
    "        return self.name\n",
    "    \n",
    "    def __hash__(self):\n",
    "        return hash( str(self) )\n",
    "    \n",
    "    def __repr__(self):\n",
    "        return str(self)\n",
    "    \n",
    "\n",
    "class Trip(object):\n",
    "    def __init__(self, row):\n",
    "        self.name     = row['Name']\n",
    "        self.days     = int(row['Days'])\n",
    "        self.nights   = int(row['Nights'])\n",
    "        self.miles    = float(row['Miles'])\n",
    "        self.vert     = int(row['Vertical'])\n",
    "        self.partners = set()\n",
    "        self.solo     = row['Solo?'] == 'TRUE'\n",
    "        self.summits  = set()\n",
    "        \n",
    "        for partner in row['Partners'].split(','):\n",
    "            if len(partner.strip()) > 0:\n",
    "                self.partners.add( partner.strip() )\n",
    "            \n",
    "    def __hash__(self):\n",
    "        return hash( str(self) )\n",
    "    \n",
    "    def __str__(self):\n",
    "        return self.name\n",
    "    \n",
    "    def add_summit(self, row):\n",
    "        self.summits.add( Summit(row) )\n",
    "    \n",
    "    def steepness(self):\n",
    "        ''' number of vertical feet per mile '''\n",
    "        return self.vert/self.miles\n",
    "    \n",
    "    def summits_pretty(self):\n",
    "        return '[' + ', '.join(map(str, self.summits)) + ']'\n",
    "    "
   ]
  },
  {
   "cell_type": "code",
   "execution_count": 3,
   "metadata": {},
   "outputs": [
    {
     "name": "stdout",
     "output_type": "stream",
     "text": [
      "Finished loading 59 trips with 103 summits.\n"
     ]
    }
   ],
   "source": [
    "trips = set()\n",
    "\n",
    "with open('bulger_trips.tsv')  as csvfile:\n",
    "    reader = csv.DictReader(csvfile, delimiter='\\t')\n",
    "    \n",
    "    current_trip = None\n",
    "    summits = 0\n",
    "    for row in reader:\n",
    "        if row['Name'] != '':\n",
    "            if current_trip is not None:\n",
    "                trips.add(current_trip)\n",
    "                trips\n",
    "            current_trip = Trip(row)\n",
    "        \n",
    "        elif row['Summit'] != '':\n",
    "            current_trip.add_summit(row)\n",
    "            summits += 1\n",
    "    \n",
    "    # don't want to miss the last trip\n",
    "    trips.add(current_trip)\n",
    "\n",
    "print( 'Finished loading {} trips with {} summits.'.format(len(trips), summits) )"
   ]
  },
  {
   "cell_type": "code",
   "execution_count": 4,
   "metadata": {},
   "outputs": [
    {
     "name": "stdout",
     "output_type": "stream",
     "text": [
      "Computed 103 total summits: 99 new and 4 duplicates:\n",
      "Mt. Rainier, Eldorado Peak, Sahale Mountain, Eldorado Peak\n"
     ]
    }
   ],
   "source": [
    "summits = []\n",
    "duplicate_summits = []\n",
    "unique_summit_names = set()\n",
    "\n",
    "for t in trips:\n",
    "    for s in t.summits:\n",
    "        if s.name not in unique_summit_names:\n",
    "            unique_summit_names.add(s.name)\n",
    "            summits.append(s)\n",
    "        else:\n",
    "            duplicate_summits.append(s)\n",
    "        \n",
    "print( \"Computed {} total summits: {} new and {} duplicates:\".format(len(summits)+len(duplicate_summits), len(summits), len(duplicate_summits)) )\n",
    "        \n",
    "        \n",
    "summits.sort(key=lambda s: s.date)\n",
    "\n",
    "print( \", \".join( [s.name for s in sorted(duplicate_summits, key=lambda s: s.date)] ) )"
   ]
  },
  {
   "cell_type": "markdown",
   "metadata": {},
   "source": [
    "# Trips"
   ]
  },
  {
   "cell_type": "markdown",
   "metadata": {},
   "source": [
    "## The basics"
   ]
  },
  {
   "cell_type": "code",
   "execution_count": 5,
   "metadata": {},
   "outputs": [
    {
     "name": "stdout",
     "output_type": "stream",
     "text": [
      "59 trips, 99 unique summits.\n",
      "4 duplicate summits: Mt. Rainier, Eldorado Peak, Sahale Mountain, Eldorado Peak\n",
      "1183.96 miles, with 554,795 feet of climbing.\n",
      "147 days of hiking, 107 nights of camping.\n"
     ]
    }
   ],
   "source": [
    "print( \"{} trips, {} unique summits.\".format(len(trips), len(summits)) )\n",
    "\n",
    "print( \"{} duplicate summits: \".format(len(duplicate_summits))+\", \".join( [s.name for s in sorted(duplicate_summits, key=lambda s: s.date)] ) )\n",
    "\n",
    "total_distance = 0\n",
    "total_vert = 0\n",
    "total_days = 0\n",
    "total_nights = 0\n",
    "\n",
    "for t in trips:\n",
    "    total_distance += t.miles\n",
    "    total_vert += t.vert\n",
    "    total_days += t.days\n",
    "    total_nights += t.nights\n",
    "    \n",
    "print( \"{} miles, with {:,} feet of climbing.\".format(total_distance, total_vert) )\n",
    "\n",
    "print( \"{} days of hiking, {} nights of camping.\".format(total_days, total_nights) )\n",
    "\n"
   ]
  },
  {
   "cell_type": "markdown",
   "metadata": {},
   "source": [
    "## ... by distance"
   ]
  },
  {
   "cell_type": "code",
   "execution_count": 6,
   "metadata": {},
   "outputs": [
    {
     "name": "stdout",
     "output_type": "stream",
     "text": [
      "[Mt. Lago, Lost Peak, Ptarmigan Peak, Blackcap Mountain]                         48.95\n",
      "[Remmel Mountain, Amphitheater Mountain, Cathedral Peak]                         44.85\n",
      "[Chiwawa Mountain]                                                               42.58\n",
      "[Sinister Peak, Dome Peak]                                                       37.20\n",
      "[Storm King, Goode Mountain]                                                     36.00\n",
      "[Cardinal Peak, Saska Peak, Pinnacle Mountain, Emerald Peak]                     33.40\n",
      "[Glacier Peak]                                                                   32.92\n",
      "[Flora Mountain, Tupshin Peak, Devore Peak]                                      32.84\n",
      "[Kimtah Peak, Mt. Logan, Cosho Peak]                                             31.12\n",
      "[Azurite Peak]                                                                   30.95\n",
      "[Mt. Custer, Mt. Spickard, Mt. Rahm, Mt. Redoubt]                                29.83\n",
      "[Mox Peaks,SE Spire, Mox Peaks,NW Spire]                                         26.81\n",
      "[Dark Peak]                                                                      26.24\n",
      "[Mt. Carru, Osceola Peak]                                                        25.95\n",
      "[McClellan Peak, Cannon Mountain]                                                25.82\n",
      "[Monument Peak, Lake Mountain]                                                   25.35\n",
      "[Clark Mountain, Luahna Peak]                                                    25.20\n",
      "[Golden Horn, Tower Mountain]                                                    25.00\n",
      "[Mt. Fernow, South Spectacle Butte]                                              24.92\n",
      "[Star Peak, Oval Peak, Courtney Peak]                                            23.00\n",
      "[Jack Mountain]                                                                  22.88\n",
      "[Mt. Adams]                                                                      22.23\n",
      "[Fortress Mountain]                                                              22.00\n",
      "[Raven Ridge, Switchback Peak, Easy Martin Peak, Hoodoo Peak, Mt. Bigelow]       21.23\n",
      "[Mt. Formidable]                                                                 19.40\n",
      "[Mt. Buckner, Horseshoe Peak]                                                    18.29\n",
      "[Eldorado Peak, Primus Peak]                                                     17.78\n",
      "[Argonaut Peak]                                                                  17.70\n",
      "[Gardner Mountain, North Gardner Mountain]                                       17.50\n",
      "[Cashmere Mountain]                                                              17.00\n",
      "[Sherpa Peak, Mt. Stuart]                                                        16.74\n",
      "[Bonanza Peak, Hard Martin Peak]                                                 16.52\n",
      "[Greenwood Mountain, Dumbell Mountain]                                           16.50\n",
      "[Little Annapurna, Enchantment Peak]                                             16.20\n",
      "[Little Tahoma]                                                                  16.00\n",
      "[Mt. Rainier]                                                                    15.60\n",
      "[Snowfield Peak]                                                                 15.24\n",
      "[Eldorado Peak, Klawatti Peak, Dorado Needle]                                    15.17\n",
      "[Mt. Baker]                                                                      14.98\n",
      "[Mt. Maude]                                                                      14.58\n",
      "[Colchuck Peak, Dragontail Peak]                                                 14.50\n",
      "[Mt. Rainier]                                                                    14.48\n",
      "[Windy Peak]                                                                     14.44\n",
      "[Eldorado Peak, Austera Peak]                                                    13.26\n",
      "[Mt. Shuksan]                                                                    13.18\n",
      "[Mesahchie Peak, Katsuk Peak]                                                    13.00\n",
      "[Boston Peak, Sahale Mountain]                                                   12.20\n",
      "[Reynolds Peak]                                                                  12.12\n",
      "[Seven Fingered Jack]                                                            11.92\n",
      "[Robinson Mountain]                                                              10.90\n",
      "[Abernathy Peak]                                                                 10.12\n",
      "[Mt. St. Helens]                                                                 10.10\n",
      "[Big Craggy Peak, West Craggy]                                                    9.00\n",
      "[Forbidden Peak]                                                                  8.21\n",
      "[Black Peak]                                                                      7.26\n",
      "[Silver Star Mountain]                                                            7.26\n",
      "[Copper Peak]                                                                     7.00\n",
      "[Big Snagtooth]                                                                   6.32\n",
      "[Sahale Mountain]                                                                 6.22\n"
     ]
    }
   ],
   "source": [
    "for t in sorted(trips, key=lambda trip: trip.miles, reverse=True):\n",
    "    print(\"{:<80}{:6.2f}\".format(t.summits_pretty(), t.miles))"
   ]
  },
  {
   "cell_type": "markdown",
   "metadata": {},
   "source": [
    "## ... by vertical"
   ]
  },
  {
   "cell_type": "code",
   "execution_count": 7,
   "metadata": {},
   "outputs": [
    {
     "name": "stdout",
     "output_type": "stream",
     "text": [
      "[Mt. Lago, Lost Peak, Ptarmigan Peak, Blackcap Mountain]                         19,630\n",
      "[Kimtah Peak, Mt. Logan, Cosho Peak]                                             17,938\n",
      "[Mt. Fernow, South Spectacle Butte]                                              16,335\n",
      "[Mt. Custer, Mt. Spickard, Mt. Rahm, Mt. Redoubt]                                16,133\n",
      "[Jack Mountain]                                                                  15,848\n",
      "[Flora Mountain, Tupshin Peak, Devore Peak]                                      15,800\n",
      "[Cardinal Peak, Saska Peak, Pinnacle Mountain, Emerald Peak]                     15,574\n",
      "[Mox Peaks,SE Spire, Mox Peaks,NW Spire]                                         13,609\n",
      "[Monument Peak, Lake Mountain]                                                   13,607\n",
      "[Chiwawa Mountain]                                                               13,431\n",
      "[Glacier Peak]                                                                   13,023\n",
      "[Remmel Mountain, Amphitheater Mountain, Cathedral Peak]                         12,620\n",
      "[Eldorado Peak, Klawatti Peak, Dorado Needle]                                    12,613\n",
      "[Mt. Formidable]                                                                 11,042\n",
      "[Eldorado Peak, Primus Peak]                                                     10,842\n",
      "[Mt. Rainier]                                                                    10,390\n",
      "[Sinister Peak, Dome Peak]                                                       10,388\n",
      "[Clark Mountain, Luahna Peak]                                                    10,300\n",
      "[Dark Peak]                                                                      10,078\n",
      "[Raven Ridge, Switchback Peak, Easy Martin Peak, Hoodoo Peak, Mt. Bigelow]       10,073\n",
      "[Star Peak, Oval Peak, Courtney Peak]                                            10,067\n",
      "[Sherpa Peak, Mt. Stuart]                                                         9,879\n",
      "[Snowfield Peak]                                                                  9,403\n",
      "[Bonanza Peak, Hard Martin Peak]                                                  9,242\n",
      "[Storm King, Goode Mountain]                                                      9,100\n",
      "[McClellan Peak, Cannon Mountain]                                                 9,100\n",
      "[Mt. Adams]                                                                       9,056\n",
      "[Mt. Rainier]                                                                     9,043\n",
      "[Mt. Buckner, Horseshoe Peak]                                                     8,995\n",
      "[Mt. Carru, Osceola Peak]                                                         8,829\n",
      "[Eldorado Peak, Austera Peak]                                                     8,758\n",
      "[Azurite Peak]                                                                    8,513\n",
      "[Mt. Baker]                                                                       8,028\n",
      "[Argonaut Peak]                                                                   7,800\n",
      "[Fortress Mountain]                                                               7,746\n",
      "[Little Annapurna, Enchantment Peak]                                              7,600\n",
      "[Gardner Mountain, North Gardner Mountain]                                        7,500\n",
      "[Little Tahoma]                                                                   7,438\n",
      "[Boston Peak, Sahale Mountain]                                                    7,421\n",
      "[Golden Horn, Tower Mountain]                                                     7,138\n",
      "[Forbidden Peak]                                                                  7,091\n",
      "[Robinson Mountain]                                                               6,910\n",
      "[Mt. Shuksan]                                                                     6,863\n",
      "[Mesahchie Peak, Katsuk Peak]                                                     6,823\n",
      "[Greenwood Mountain, Dumbell Mountain]                                            6,767\n",
      "[Big Craggy Peak, West Craggy]                                                    6,650\n",
      "[Colchuck Peak, Dragontail Peak]                                                  6,400\n",
      "[Mt. Maude]                                                                       6,354\n",
      "[Black Peak]                                                                      6,252\n",
      "[Reynolds Peak]                                                                   6,240\n",
      "[Copper Peak]                                                                     6,070\n",
      "[Seven Fingered Jack]                                                             6,014\n",
      "[Mt. St. Helens]                                                                  5,740\n",
      "[Abernathy Peak]                                                                  5,698\n",
      "[Sahale Mountain]                                                                 5,573\n",
      "[Silver Star Mountain]                                                            5,500\n",
      "[Cashmere Mountain]                                                               5,101\n",
      "[Big Snagtooth]                                                                   4,530\n",
      "[Windy Peak]                                                                      4,289\n"
     ]
    }
   ],
   "source": [
    "for t in sorted(trips, key=lambda trip: trip.vert, reverse=True):\n",
    "    print(\"{:<80}{:7,}\".format(t.summits_pretty(), t.vert))"
   ]
  },
  {
   "cell_type": "markdown",
   "metadata": {},
   "source": [
    "## ... and by steepness"
   ]
  },
  {
   "cell_type": "code",
   "execution_count": 8,
   "metadata": {},
   "outputs": [
    {
     "name": "stdout",
     "output_type": "stream",
     "text": [
      "[Sahale Mountain]                                                               896 vert. ft./mi.\n",
      "[Copper Peak]                                                                   867 vert. ft./mi.\n",
      "[Forbidden Peak]                                                                864 vert. ft./mi.\n",
      "[Black Peak]                                                                    861 vert. ft./mi.\n",
      "[Eldorado Peak, Klawatti Peak, Dorado Needle]                                   831 vert. ft./mi.\n",
      "[Silver Star Mountain]                                                          758 vert. ft./mi.\n",
      "[Big Craggy Peak, West Craggy]                                                  739 vert. ft./mi.\n",
      "[Big Snagtooth]                                                                 717 vert. ft./mi.\n",
      "[Jack Mountain]                                                                 693 vert. ft./mi.\n",
      "[Mt. Rainier]                                                                   666 vert. ft./mi.\n",
      "[Eldorado Peak, Austera Peak]                                                   660 vert. ft./mi.\n",
      "[Mt. Fernow, South Spectacle Butte]                                             655 vert. ft./mi.\n",
      "[Robinson Mountain]                                                             634 vert. ft./mi.\n",
      "[Mt. Rainier]                                                                   625 vert. ft./mi.\n",
      "[Snowfield Peak]                                                                617 vert. ft./mi.\n",
      "[Eldorado Peak, Primus Peak]                                                    610 vert. ft./mi.\n",
      "[Boston Peak, Sahale Mountain]                                                  608 vert. ft./mi.\n",
      "[Sherpa Peak, Mt. Stuart]                                                       590 vert. ft./mi.\n",
      "[Kimtah Peak, Mt. Logan, Cosho Peak]                                            576 vert. ft./mi.\n",
      "[Mt. Formidable]                                                                569 vert. ft./mi.\n",
      "[Mt. St. Helens]                                                                568 vert. ft./mi.\n",
      "[Abernathy Peak]                                                                563 vert. ft./mi.\n",
      "[Bonanza Peak, Hard Martin Peak]                                                559 vert. ft./mi.\n",
      "[Mt. Custer, Mt. Spickard, Mt. Rahm, Mt. Redoubt]                               541 vert. ft./mi.\n",
      "[Monument Peak, Lake Mountain]                                                  537 vert. ft./mi.\n",
      "[Mt. Baker]                                                                     536 vert. ft./mi.\n",
      "[Mesahchie Peak, Katsuk Peak]                                                   525 vert. ft./mi.\n",
      "[Mt. Shuksan]                                                                   521 vert. ft./mi.\n",
      "[Reynolds Peak]                                                                 515 vert. ft./mi.\n",
      "[Mox Peaks,SE Spire, Mox Peaks,NW Spire]                                        508 vert. ft./mi.\n",
      "[Seven Fingered Jack]                                                           505 vert. ft./mi.\n",
      "[Mt. Buckner, Horseshoe Peak]                                                   492 vert. ft./mi.\n",
      "[Flora Mountain, Tupshin Peak, Devore Peak]                                     481 vert. ft./mi.\n",
      "[Raven Ridge, Switchback Peak, Easy Martin Peak, Hoodoo Peak, Mt. Bigelow]      474 vert. ft./mi.\n",
      "[Little Annapurna, Enchantment Peak]                                            469 vert. ft./mi.\n",
      "[Cardinal Peak, Saska Peak, Pinnacle Mountain, Emerald Peak]                    466 vert. ft./mi.\n",
      "[Little Tahoma]                                                                 465 vert. ft./mi.\n",
      "[Colchuck Peak, Dragontail Peak]                                                441 vert. ft./mi.\n",
      "[Argonaut Peak]                                                                 441 vert. ft./mi.\n",
      "[Star Peak, Oval Peak, Courtney Peak]                                           438 vert. ft./mi.\n",
      "[Mt. Maude]                                                                     436 vert. ft./mi.\n",
      "[Gardner Mountain, North Gardner Mountain]                                      429 vert. ft./mi.\n",
      "[Greenwood Mountain, Dumbell Mountain]                                          410 vert. ft./mi.\n",
      "[Clark Mountain, Luahna Peak]                                                   409 vert. ft./mi.\n",
      "[Mt. Adams]                                                                     407 vert. ft./mi.\n",
      "[Mt. Lago, Lost Peak, Ptarmigan Peak, Blackcap Mountain]                        401 vert. ft./mi.\n",
      "[Glacier Peak]                                                                  396 vert. ft./mi.\n",
      "[Dark Peak]                                                                     384 vert. ft./mi.\n",
      "[McClellan Peak, Cannon Mountain]                                               352 vert. ft./mi.\n",
      "[Fortress Mountain]                                                             352 vert. ft./mi.\n",
      "[Mt. Carru, Osceola Peak]                                                       340 vert. ft./mi.\n",
      "[Chiwawa Mountain]                                                              315 vert. ft./mi.\n",
      "[Cashmere Mountain]                                                             300 vert. ft./mi.\n",
      "[Windy Peak]                                                                    297 vert. ft./mi.\n",
      "[Golden Horn, Tower Mountain]                                                   286 vert. ft./mi.\n",
      "[Remmel Mountain, Amphitheater Mountain, Cathedral Peak]                        281 vert. ft./mi.\n",
      "[Sinister Peak, Dome Peak]                                                      279 vert. ft./mi.\n",
      "[Azurite Peak]                                                                  275 vert. ft./mi.\n",
      "[Storm King, Goode Mountain]                                                    253 vert. ft./mi.\n"
     ]
    }
   ],
   "source": [
    "for t in sorted(trips, key=lambda trip: trip.steepness(), reverse=True):\n",
    "    print(\"{:<80}{:02.0f} vert. ft./mi.\".format(t.summits_pretty(), t.steepness()))"
   ]
  },
  {
   "cell_type": "markdown",
   "metadata": {},
   "source": [
    "## most productive day?"
   ]
  },
  {
   "cell_type": "code",
   "execution_count": 25,
   "metadata": {},
   "outputs": [
    {
     "name": "stdout",
     "output_type": "stream",
     "text": [
      "Jun 17, 2017    3  Raven Ridge, Hoodoo Peak, Mt. Bigelow\n",
      "Sep 01, 2019    3  Ptarmigan Peak, Mt. Lago, Lost Peak\n",
      "Sep 23, 2018    3  Cardinal Peak, Saska Peak, Emerald Peak\n",
      "May 21, 2016    3  Star Peak, Oval Peak, Courtney Peak\n",
      "Jun 09, 2019    2  Gardner Mountain, North Gardner Mountain\n",
      "Sep 16, 2011    2  Mt. Carru, Osceola Peak\n",
      "Jun 26, 2016    2  Mesahchie Peak, Katsuk Peak\n",
      "May 30, 2015    2  Enchantment Peak, Little Annapurna\n",
      "Aug 08, 2015    2  Clark Mountain, Luahna Peak\n",
      "Jul 01, 2019    2  Mt. Buckner, Horseshoe Peak\n"
     ]
    }
   ],
   "source": [
    "summits_per_day  = defaultdict(set)\n",
    "\n",
    "for s in summits:\n",
    "    summits_per_day[s.date].add(s.name)\n",
    "    \n",
    "for date, summits_on_date in sorted( summits_per_day.items(), key=lambda s: len(s[1]), reverse=True )[:10]:\n",
    "    print( \"{:<15} {:1d}  {}\".format( date.strftime(\"%b %d, %Y\"), len(summits_on_date), \", \".join(summits_on_date) ) )"
   ]
  },
  {
   "cell_type": "markdown",
   "metadata": {},
   "source": [
    "# most productive trip?"
   ]
  },
  {
   "cell_type": "code",
   "execution_count": 28,
   "metadata": {},
   "outputs": [
    {
     "name": "stdout",
     "output_type": "stream",
     "text": [
      "Martin Hoodoo Mashup      5  Raven Ridge, Switchback Peak, Easy Martin Peak, Hoodoo Peak, Mt. Bigelow\n",
      "Chilliwacking             4  Mt. Rahm, Mt. Spickard, Mt. Custer, Mt. Redoubt\n",
      "Pasayten Speedy Solo      4  Ptarmigan Peak, Mt. Lago, Lost Peak, Blackcap Mountain\n",
      "Emerald Saska Cardinal    4  Cardinal Peak, Saska Peak, Pinnacle Mountain, Emerald Peak\n",
      "Star, Oval, Courtney      3  Star Peak, Oval Peak, Courtney Peak\n",
      "Pasayten with Addy        3  Remmel Mountain, Amphitheater Mountain, Cathedral Peak\n",
      "Ragged Ridge Solo         3  Kimtah Peak, Mt. Logan, Cosho Peak\n",
      "Tupshin, Devore, Flora    3  Flora Mountain, Tupshin Peak, Devore Peak\n",
      "Dorado Needle with Becca  3  Eldorado Peak, Klawatti Peak, Dorado Needle\n",
      "West Ridge Stuart         2  Sherpa Peak, Mt. Stuart\n"
     ]
    }
   ],
   "source": [
    "summits_per_trip  = defaultdict(set)\n",
    "\n",
    "for t in trips:\n",
    "    for s in t.summits:\n",
    "        summits_per_trip[t.name].add(s.name)\n",
    "    \n",
    "for trip_name, summits_on_trip in sorted( summits_per_trip.items(), key=lambda s: len(s[1]), reverse=True )[:10]:\n",
    "    print( \"{:<25} {:1d}  {}\".format( trip_name, len(summits_on_trip), \", \".join(summits_on_trip) ) )"
   ]
  },
  {
   "cell_type": "markdown",
   "metadata": {},
   "source": [
    "# Partners"
   ]
  },
  {
   "cell_type": "code",
   "execution_count": 9,
   "metadata": {},
   "outputs": [],
   "source": [
    "partners_summits = defaultdict(set)\n",
    "partner_stats = defaultdict(lambda: {'vert':0, 'days':0, 'nights':0, 'miles':0})\n",
    "\n",
    "for t in trips:\n",
    "    for s in t.summits:\n",
    "        if not t.solo:\n",
    "            for p in t.partners:\n",
    "                partners_summits[p].add(s)\n",
    "        else:\n",
    "            partners_summits['Solo'].add(s)\n",
    "            \n",
    "    for p in t.partners:\n",
    "        partner_stats[p]['vert']   += t.vert\n",
    "        partner_stats[p]['days']   += t.days\n",
    "        partner_stats[p]['nights'] += t.nights\n",
    "        partner_stats[p]['miles']  += t.miles"
   ]
  },
  {
   "cell_type": "code",
   "execution_count": 10,
   "metadata": {},
   "outputs": [
    {
     "name": "stdout",
     "output_type": "stream",
     "text": [
      "PARTNER        PEAKS\n",
      "Dan            43    [Clark Mountain, Copper Peak, Mt. Shuksan, Katsuk Peak, Dark Peak, Fortress Mountain, Devore Peak, Bonanza Peak, Eldorado Peak...\n",
      "Solo           28    [Saska Peak, Switchback Peak, Emerald Peak, Courtney Peak, Hoodoo Peak, Lost Peak, Cannon Mountain, McClellan Peak, Mt. Logan,...\n",
      "Adam           17    [Mt. Buckner, Sherpa Peak, Forbidden Peak, Mt. Stuart, Enchantment Peak, Mt. Spickard, Mt. Maude, Fortress Mountain, Mt. Custe...\n",
      "Margaret       12    [Mt. Maude, Bonanza Peak, Clark Mountain, Seven Fingered Jack, Hard Martin Peak, Austera Peak, Luahna Peak, Fortress Mountain,...\n",
      "Addison         8    [Glacier Peak, Primus Peak, Remmel Mountain, Cathedral Peak, Mt. St. Helens, Mt. Formidable, Eldorado Peak, Amphitheater Mount...\n",
      "Becca           5    [Eldorado Peak, Klawatti Peak, Mt. Fernow, South Spectacle Butte, Dorado Needle]\n",
      "Duncan          4    [Big Craggy Peak, Silver Star Mountain, West Craggy, Little Tahoma]\n",
      "Cameron         4    [Eldorado Peak, Mt. St. Helens, Glacier Peak, Primus Peak]\n",
      "Ellie           3    [Clark Mountain, Chiwawa Mountain, Luahna Peak]\n",
      "Sean            3    [Mt. St. Helens, Gardner Mountain, North Gardner Mountain]\n",
      "Alex            2    [Mt. Buckner, Horseshoe Peak]\n",
      "Marco           1    [Fortress Mountain]\n",
      "Caitlin         1    [Mt. Rainier]\n",
      "Erica           1    [Robinson Mountain]\n",
      "Peter           1    [Mt. Rainier]\n",
      "Leah            1    [Black Peak]\n"
     ]
    }
   ],
   "source": [
    "print( \"{:<15}{}\".format(\"PARTNER\", \"PEAKS\"))\n",
    "\n",
    "trim_len = 130\n",
    "\n",
    "for partner, partner_summits in sorted(partners_summits.items(), key=lambda x: len(x[1]), reverse=True):\n",
    "    pretty_summits = '    [' + \", \".join( map(str, partner_summits) ) + ']'\n",
    "    if len(pretty_summits) > trim_len:\n",
    "        pretty_summits = pretty_summits[:trim_len] + '...'\n",
    "    print( \"{:<15}{:2d}\".format(partner, len(partner_summits)) + pretty_summits )"
   ]
  },
  {
   "cell_type": "code",
   "execution_count": 11,
   "metadata": {},
   "outputs": [
    {
     "name": "stdout",
     "output_type": "stream",
     "text": [
      "PARTNER          VERTICAL      DAYS    NIGHTS     MILES\n",
      "Dan               244,031        77        55       523\n",
      "Adam               91,398        25        17       176\n",
      "Margaret           77,500        31        23       169\n",
      "Addison            53,267        11         8       125\n",
      "Cameron            29,605         6         5        61\n",
      "Becca              28,948         7         6        40\n",
      "Ellie              23,731         9         7        68\n",
      "Duncan             19,588         5         4        32\n",
      "Sean               13,240         2         2        28\n",
      "Caitlin            10,390         3         2        16\n",
      "Peter              10,390         3         2        16\n",
      "Alex                8,995         2         1        18\n",
      "Marco               7,746         2         1        22\n",
      "Erica               6,910         2         1        11\n",
      "Leah                6,252         3         3         7\n"
     ]
    }
   ],
   "source": [
    "print( \"{:<15}{:>10}{:>10}{:>10}{:>10}\".format( \"PARTNER\", \"VERTICAL\", \"DAYS\", \"NIGHTS\", \"MILES\") )\n",
    "\n",
    "\n",
    "for partner, s in sorted(partner_stats.items(), key=lambda x: x[1]['vert'], reverse=True):\n",
    "    print( \"{:<15}{:10,d}{:10,d}{:10,d}{:10.0f}\".format(partner, s['vert'], s['days'], s['nights'], s['miles']) )"
   ]
  },
  {
   "cell_type": "markdown",
   "metadata": {},
   "source": [
    "# Time"
   ]
  },
  {
   "cell_type": "markdown",
   "metadata": {},
   "source": [
    "## Months"
   ]
  },
  {
   "cell_type": "code",
   "execution_count": 12,
   "metadata": {},
   "outputs": [
    {
     "data": {
      "image/png": "[encoded data removed]",
      "text/plain": [
       "<Figure size 720x720 with 1 Axes>"
      ]
     },
     "metadata": {},
     "output_type": "display_data"
    }
   ],
   "source": [
    "plt.figure(figsize=(10,10))\n",
    "\n",
    "summits_per_month = defaultdict(int)\n",
    "\n",
    "for t in trips:\n",
    "    for s in t.summits:\n",
    "        summits_per_month[ datetime.datetime.strftime(s.date, '%B') ] += 1\n",
    "        \n",
    "\n",
    "summits_per_month = [(count, \"{} - {} peaks\".format(month, count)) for month, count in summits_per_month.items()]\n",
    "summits_per_month.sort(key=lambda s: s[0], reverse=True)\n",
    "        \n",
    "plt.pie(zip(*summits_per_month)[0], labels=zip(*summits_per_month)[1])\n",
    "plt.title('Summits per month')\n",
    "plt.show()"
   ]
  },
  {
   "cell_type": "code",
   "execution_count": 13,
   "metadata": {},
   "outputs": [
    {
     "data": {
      "image/png": "[encoded data removed]",
      "text/plain": [
       "<Figure size 720x432 with 1 Axes>"
      ]
     },
     "metadata": {
      "needs_background": "light"
     },
     "output_type": "display_data"
    }
   ],
   "source": [
    "plt.figure(figsize=(10,6))\n",
    "\n",
    "summits_per_month = defaultdict(int)\n",
    "\n",
    "for t in trips:\n",
    "    for s in t.summits:\n",
    "        summits_per_month[ datetime.datetime.strftime(s.date, '%B') ] += 1\n",
    "        \n",
    "bars, labels = [], []\n",
    "for month in range(1,13):\n",
    "    month_pretty = datetime.datetime.strftime(datetime.date(year=2019, month=month, day=1), '%B')\n",
    "    labels.append(month_pretty)\n",
    "    bars.append( summits_per_month[month_pretty] )\n",
    "\n",
    "plt.bar(range(1,13), bars)\n",
    "plt.xticks(range(1,13), labels, rotation=80)\n",
    "plt.title('Summits per month')\n",
    "plt.show()"
   ]
  },
  {
   "cell_type": "code",
   "execution_count": 14,
   "metadata": {},
   "outputs": [
    {
     "data": {
      "image/png": "[encoded data removed]",
      "text/plain": [
       "<Figure size 720x432 with 1 Axes>"
      ]
     },
     "metadata": {
      "needs_background": "light"
     },
     "output_type": "display_data"
    }
   ],
   "source": [
    "plt.figure(figsize=(10,6))\n",
    "\n",
    "summits_per_weekday = defaultdict(int)\n",
    "\n",
    "for s in summits:\n",
    "    summits_per_weekday[ datetime.datetime.strftime(s.date, '%A') ] += 1\n",
    "        \n",
    "bars, labels = [], []\n",
    "for i, day_name in enumerate(calendar.day_name):\n",
    "    labels.append(day_name)\n",
    "    bars.append( summits_per_weekday[day_name] )\n",
    "\n",
    "plt.bar(range(7), bars)\n",
    "plt.xticks(range(7), labels, rotation=80)\n",
    "plt.title('Summits per day of week')\n",
    "plt.show()"
   ]
  },
  {
   "cell_type": "markdown",
   "metadata": {},
   "source": [
    "# Progress over time"
   ]
  },
  {
   "cell_type": "markdown",
   "metadata": {},
   "source": [
    "# summits per year"
   ]
  },
  {
   "cell_type": "code",
   "execution_count": 15,
   "metadata": {},
   "outputs": [
    {
     "name": "stdout",
     "output_type": "stream",
     "text": [
      "2005 1\n",
      "2006 1\n",
      "2007 2\n",
      "2008 2\n",
      "2009 1\n",
      "2010 4\n",
      "2011 3\n",
      "2012 4\n",
      "2013 4\n",
      "2014 2\n",
      "2015 12\n",
      "2016 13\n",
      "2017 12\n",
      "2018 14\n",
      "2019 24\n"
     ]
    }
   ],
   "source": [
    "summits_per_year = defaultdict(int)\n",
    "\n",
    "for s in summits:\n",
    "    summits_per_year[ s.date.year ] += 1\n",
    "        \n",
    "for year, count in sorted(summits_per_year.items(), key=lambda x: x[0]):\n",
    "    print( \"{} {}\".format(year, count) )"
   ]
  },
  {
   "cell_type": "code",
   "execution_count": 16,
   "metadata": {},
   "outputs": [],
   "source": [
    "finished_so_far = 0\n",
    "amount_complete_by_day = {}\n",
    "\n",
    "for s in summits:\n",
    "    finished_so_far += 1\n",
    "    amount_complete_by_day[s.date] = finished_so_far"
   ]
  },
  {
   "cell_type": "code",
   "execution_count": 17,
   "metadata": {},
   "outputs": [
    {
     "data": {
      "image/png": "[encoded data removed]",
      "text/plain": [
       "<Figure size 1080x648 with 1 Axes>"
      ]
     },
     "metadata": {
      "needs_background": "light"
     },
     "output_type": "display_data"
    }
   ],
   "source": [
    "plt.figure(figsize=(15,9))\n",
    "\n",
    "\n",
    "xs = []\n",
    "ys = []\n",
    "\n",
    "for date, count in sorted(amount_complete_by_day.items(), key=lambda x: x[1]):\n",
    "    ys.append(count)\n",
    "    xs.append( (date - summits[0].date).days )\n",
    "    \n",
    "plt.plot(xs, ys, linewidth=3)\n",
    "plt.ylabel(\"Bulgers climbed\")\n",
    "ticks = []\n",
    "labels = []\n",
    "for year in range(2006, 2021):\n",
    "    #for month in (1, 3, 6, 9, 12):\n",
    "    for month in (1,):\n",
    "        date = datetime.date(year=year, month=month, day=1)\n",
    "        tick = (date - summits[0].date).days\n",
    "        ticks.append(tick)\n",
    "        label = datetime.datetime.strftime(date, '%Y') + \"\\nAge {}\".format( (date - datetime.date(day=22, month=10, year=1995)).days/365 )\n",
    "        labels.append(label)\n",
    "plt.xticks(ticks, labels)\n",
    "\n",
    "finished_so_far = 0\n",
    "for year, count in sorted(summits_per_year.items(), key=lambda x: x[0]):\n",
    "    date = datetime.date(year=year, month=9, day=15)\n",
    "    x = (date - summits[0].date).days\n",
    "    y = finished_so_far + count/2\n",
    "    finished_so_far += count\n",
    "    \n",
    "    plt.text(x,y,str(count))\n",
    "\n",
    "\n",
    "plt.title(\"Bulger List Progress Over Time\\nNumbers indicate summits per season\")\n",
    "plt.show()"
   ]
  },
  {
   "cell_type": "code",
   "execution_count": null,
   "metadata": {},
   "outputs": [],
   "source": []
  }
 ],
 "metadata": {
  "kernelspec": {
   "display_name": "Python 2",
   "language": "python",
   "name": "python2"
  },
  "language_info": {
   "codemirror_mode": {
    "name": "ipython",
    "version": 2
   },
   "file_extension": ".py",
   "mimetype": "text/x-python",
   "name": "python",
   "nbconvert_exporter": "python",
   "pygments_lexer": "ipython2",
   "version": "2.7.16"
  }
 },
 "nbformat": 4,
 "nbformat_minor": 2
}
